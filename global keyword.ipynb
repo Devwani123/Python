{
 "cells": [
  {
   "cell_type": "markdown",
   "id": "7e7a7c62",
   "metadata": {},
   "source": [
    "# global keyword\n",
    "## A global keyword is a keyword that allows a user to modify a variable outside the current scope. It is used to create global variables in Python from a non-global scope, i.e. inside a function. Global keyword is used inside a function only when we want to do assignments or when we want to change a variable. Global is not needed for printing and accessing."
   ]
  },
  {
   "cell_type": "code",
   "execution_count": 8,
   "id": "5b112396",
   "metadata": {
    "scrolled": true
   },
   "outputs": [
    {
     "name": "stdout",
     "output_type": "stream",
     "text": [
      "10\n",
      "10\n",
      "10\n"
     ]
    }
   ],
   "source": [
    "i = 10\n",
    "def p():\n",
    "    print(i)\n",
    "\n",
    "def incre():            #without global keyword\n",
    "    i = 11\n",
    "print(i)\n",
    "\n",
    "p()\n",
    "incre()\n",
    "p()"
   ]
  },
  {
   "cell_type": "code",
   "execution_count": 27,
   "id": "2e1f72f1",
   "metadata": {},
   "outputs": [
    {
     "name": "stdout",
     "output_type": "stream",
     "text": [
      "10\n",
      "10\n",
      "20\n"
     ]
    }
   ],
   "source": [
    "i = 10\n",
    "def p():\n",
    "    print(i)\n",
    "\n",
    "def incre():\n",
    "    global i            #with global keyword\n",
    "    i = i+10\n",
    "print(i)\n",
    "\n",
    "p()\n",
    "incre()\n",
    "p()\n",
    "\n"
   ]
  },
  {
   "cell_type": "markdown",
   "id": "bc52f5c1",
   "metadata": {},
   "source": [
    "# none keyword"
   ]
  },
  {
   "cell_type": "code",
   "execution_count": 9,
   "id": "6df22761",
   "metadata": {},
   "outputs": [
    {
     "name": "stdout",
     "output_type": "stream",
     "text": [
      "11\n",
      "11\n"
     ]
    }
   ],
   "source": [
    "i = 10\n",
    "\n",
    "def func(l):\n",
    "    if l is None:\n",
    "        return 'no value assigned'\n",
    "    l = l + 1\n",
    "    return l\n",
    "\n",
    "print(func(i))   # Output: 11\n",
    "print(func(10))  # Output: 11\n"
   ]
  },
  {
   "cell_type": "markdown",
   "id": "818a9545",
   "metadata": {},
   "source": [
    "# is keyword"
   ]
  },
  {
   "cell_type": "code",
   "execution_count": 34,
   "id": "dc4c811f",
   "metadata": {},
   "outputs": [
    {
     "name": "stdout",
     "output_type": "stream",
     "text": [
      "False\n",
      "True\n"
     ]
    }
   ],
   "source": [
    "a = ['a','b','c','d']\n",
    "b = ['a','b','c','d']\n",
    "print(a is b)\n",
    "print(a==b)\n",
    "\n"
   ]
  },
  {
   "cell_type": "code",
   "execution_count": 36,
   "id": "26e75738",
   "metadata": {},
   "outputs": [
    {
     "name": "stdout",
     "output_type": "stream",
     "text": [
      "true\n"
     ]
    }
   ],
   "source": [
    "a = 10\n",
    "b = 10\n",
    "if a is b:\n",
    "    print('true')\n",
    "else:\n",
    "    print('false')"
   ]
  },
  {
   "cell_type": "markdown",
   "id": "a42c6ed6",
   "metadata": {},
   "source": [
    "# membership operator"
   ]
  },
  {
   "cell_type": "code",
   "execution_count": 6,
   "id": "4b75f3b2",
   "metadata": {},
   "outputs": [
    {
     "ename": "IndentationError",
     "evalue": "expected an indented block after 'for' statement on line 8 (4281118045.py, line 9)",
     "output_type": "error",
     "traceback": [
      "\u001b[1;36m  Cell \u001b[1;32mIn[6], line 9\u001b[1;36m\u001b[0m\n\u001b[1;33m    for i in range(0,d):\u001b[0m\n\u001b[1;37m    ^\u001b[0m\n\u001b[1;31mIndentationError\u001b[0m\u001b[1;31m:\u001b[0m expected an indented block after 'for' statement on line 8\n"
     ]
    }
   ],
   "source": [
    "def overlp(list1,list2):\n",
    "    c = 0\n",
    "    d = 0\n",
    "    for i in list1:\n",
    "        c+=1\n",
    "    for i in list2:\n",
    "        d+=1\n",
    "    for i in range(0,c):\n",
    "    for i in range(0,d):\n",
    "    if  (list1[i]==list2[j]):\n",
    "            return 0\n",
    "list1 = [1,2,3,4,5,6,7,8]\n",
    "list2 = [2,4,6,8]\n",
    "if (overlp(list1,list2)):\n",
    "    print('overlap')\n",
    "else:\n",
    "    print('does not overlap')"
   ]
  },
  {
   "cell_type": "code",
   "execution_count": 7,
   "id": "975c7cd5",
   "metadata": {},
   "outputs": [
    {
     "name": "stdout",
     "output_type": "stream",
     "text": [
      "var has a value of None\n"
     ]
    }
   ],
   "source": [
    "var = None\n",
    " \n",
    "# checking it's value\n",
    "if var is None:\n",
    "    print(\"var has a value of None\")\n",
    "else:\n",
    "    print(\"var has a value\")"
   ]
  },
  {
   "cell_type": "code",
   "execution_count": 8,
   "id": "be3cd1a0",
   "metadata": {},
   "outputs": [
    {
     "name": "stdout",
     "output_type": "stream",
     "text": [
      "overlap\n"
     ]
    }
   ],
   "source": [
    "def overlp(list1, list2):\n",
    "    for item1 in list1:\n",
    "        for item2 in list2:\n",
    "            if item1 == item2:\n",
    "                return 1\n",
    "    return 0\n",
    "\n",
    "list1 = [1, 2, 3, 4, 5, 6, 7, 8]\n",
    "list2 = [2, 4, 6, 8]\n",
    "                                             #membership operator\n",
    "if overlp(list1, list2):\n",
    "    print('overlap')\n",
    "else:\n",
    "    print('does not overlap')\n"
   ]
  },
  {
   "cell_type": "code",
   "execution_count": null,
   "id": "5f323443",
   "metadata": {},
   "outputs": [],
   "source": []
  }
 ],
 "metadata": {
  "kernelspec": {
   "display_name": "Python 3 (ipykernel)",
   "language": "python",
   "name": "python3"
  },
  "language_info": {
   "codemirror_mode": {
    "name": "ipython",
    "version": 3
   },
   "file_extension": ".py",
   "mimetype": "text/x-python",
   "name": "python",
   "nbconvert_exporter": "python",
   "pygments_lexer": "ipython3",
   "version": "3.10.9"
  }
 },
 "nbformat": 4,
 "nbformat_minor": 5
}
