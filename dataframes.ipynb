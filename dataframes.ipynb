{
 "cells": [
  {
   "cell_type": "markdown",
   "id": "ae0b1ef6",
   "metadata": {},
   "source": [
    "# data frames"
   ]
  },
  {
   "cell_type": "code",
   "execution_count": 2,
   "id": "c9e6df06",
   "metadata": {},
   "outputs": [],
   "source": [
    "import numpy as np\n",
    "import pandas as pd"
   ]
  },
  {
   "cell_type": "code",
   "execution_count": 9,
   "id": "97b8ab07",
   "metadata": {},
   "outputs": [],
   "source": [
    "df = pd.DataFrame(np.random.rand(5,4),columns = ['w','x','y','z'])"
   ]
  },
  {
   "cell_type": "code",
   "execution_count": 10,
   "id": "2c3c186e",
   "metadata": {},
   "outputs": [
    {
     "data": {
      "text/html": [
       "<div>\n",
       "<style scoped>\n",
       "    .dataframe tbody tr th:only-of-type {\n",
       "        vertical-align: middle;\n",
       "    }\n",
       "\n",
       "    .dataframe tbody tr th {\n",
       "        vertical-align: top;\n",
       "    }\n",
       "\n",
       "    .dataframe thead th {\n",
       "        text-align: right;\n",
       "    }\n",
       "</style>\n",
       "<table border=\"1\" class=\"dataframe\">\n",
       "  <thead>\n",
       "    <tr style=\"text-align: right;\">\n",
       "      <th></th>\n",
       "      <th>w</th>\n",
       "      <th>x</th>\n",
       "      <th>y</th>\n",
       "      <th>z</th>\n",
       "    </tr>\n",
       "  </thead>\n",
       "  <tbody>\n",
       "    <tr>\n",
       "      <th>0</th>\n",
       "      <td>0.434281</td>\n",
       "      <td>0.624325</td>\n",
       "      <td>0.627544</td>\n",
       "      <td>0.049232</td>\n",
       "    </tr>\n",
       "    <tr>\n",
       "      <th>1</th>\n",
       "      <td>0.441710</td>\n",
       "      <td>0.273403</td>\n",
       "      <td>0.792003</td>\n",
       "      <td>0.893275</td>\n",
       "    </tr>\n",
       "    <tr>\n",
       "      <th>2</th>\n",
       "      <td>0.903913</td>\n",
       "      <td>0.703915</td>\n",
       "      <td>0.611931</td>\n",
       "      <td>0.003945</td>\n",
       "    </tr>\n",
       "    <tr>\n",
       "      <th>3</th>\n",
       "      <td>0.757352</td>\n",
       "      <td>0.327081</td>\n",
       "      <td>0.622128</td>\n",
       "      <td>0.370591</td>\n",
       "    </tr>\n",
       "    <tr>\n",
       "      <th>4</th>\n",
       "      <td>0.379426</td>\n",
       "      <td>0.085703</td>\n",
       "      <td>0.382750</td>\n",
       "      <td>0.827786</td>\n",
       "    </tr>\n",
       "  </tbody>\n",
       "</table>\n",
       "</div>"
      ],
      "text/plain": [
       "          w         x         y         z\n",
       "0  0.434281  0.624325  0.627544  0.049232\n",
       "1  0.441710  0.273403  0.792003  0.893275\n",
       "2  0.903913  0.703915  0.611931  0.003945\n",
       "3  0.757352  0.327081  0.622128  0.370591\n",
       "4  0.379426  0.085703  0.382750  0.827786"
      ]
     },
     "execution_count": 10,
     "metadata": {},
     "output_type": "execute_result"
    }
   ],
   "source": [
    "df"
   ]
  },
  {
   "cell_type": "code",
   "execution_count": 11,
   "id": "23ac1c4e",
   "metadata": {},
   "outputs": [
    {
     "data": {
      "text/plain": [
       "0    0.434281\n",
       "1    0.441710\n",
       "2    0.903913\n",
       "3    0.757352\n",
       "4    0.379426\n",
       "Name: w, dtype: float64"
      ]
     },
     "execution_count": 11,
     "metadata": {},
     "output_type": "execute_result"
    }
   ],
   "source": [
    "df['w']"
   ]
  },
  {
   "cell_type": "code",
   "execution_count": 12,
   "id": "dd22e650",
   "metadata": {},
   "outputs": [
    {
     "data": {
      "text/plain": [
       "pandas.core.series.Series"
      ]
     },
     "execution_count": 12,
     "metadata": {},
     "output_type": "execute_result"
    }
   ],
   "source": [
    "type(df['w'])"
   ]
  },
  {
   "cell_type": "code",
   "execution_count": 13,
   "id": "8e9a2433",
   "metadata": {},
   "outputs": [
    {
     "data": {
      "text/plain": [
       "0    0.434281\n",
       "1    0.441710\n",
       "2    0.903913\n",
       "3    0.757352\n",
       "4    0.379426\n",
       "Name: w, dtype: float64"
      ]
     },
     "execution_count": 13,
     "metadata": {},
     "output_type": "execute_result"
    }
   ],
   "source": [
    "df.w"
   ]
  },
  {
   "cell_type": "code",
   "execution_count": 14,
   "id": "00b8135d",
   "metadata": {},
   "outputs": [],
   "source": [
    "df['devwani'] = df['w'] + df['z']"
   ]
  },
  {
   "cell_type": "code",
   "execution_count": 15,
   "id": "941dd45f",
   "metadata": {},
   "outputs": [
    {
     "data": {
      "text/html": [
       "<div>\n",
       "<style scoped>\n",
       "    .dataframe tbody tr th:only-of-type {\n",
       "        vertical-align: middle;\n",
       "    }\n",
       "\n",
       "    .dataframe tbody tr th {\n",
       "        vertical-align: top;\n",
       "    }\n",
       "\n",
       "    .dataframe thead th {\n",
       "        text-align: right;\n",
       "    }\n",
       "</style>\n",
       "<table border=\"1\" class=\"dataframe\">\n",
       "  <thead>\n",
       "    <tr style=\"text-align: right;\">\n",
       "      <th></th>\n",
       "      <th>w</th>\n",
       "      <th>x</th>\n",
       "      <th>y</th>\n",
       "      <th>z</th>\n",
       "      <th>devwani</th>\n",
       "    </tr>\n",
       "  </thead>\n",
       "  <tbody>\n",
       "    <tr>\n",
       "      <th>0</th>\n",
       "      <td>0.434281</td>\n",
       "      <td>0.624325</td>\n",
       "      <td>0.627544</td>\n",
       "      <td>0.049232</td>\n",
       "      <td>0.483512</td>\n",
       "    </tr>\n",
       "    <tr>\n",
       "      <th>1</th>\n",
       "      <td>0.441710</td>\n",
       "      <td>0.273403</td>\n",
       "      <td>0.792003</td>\n",
       "      <td>0.893275</td>\n",
       "      <td>1.334985</td>\n",
       "    </tr>\n",
       "    <tr>\n",
       "      <th>2</th>\n",
       "      <td>0.903913</td>\n",
       "      <td>0.703915</td>\n",
       "      <td>0.611931</td>\n",
       "      <td>0.003945</td>\n",
       "      <td>0.907858</td>\n",
       "    </tr>\n",
       "    <tr>\n",
       "      <th>3</th>\n",
       "      <td>0.757352</td>\n",
       "      <td>0.327081</td>\n",
       "      <td>0.622128</td>\n",
       "      <td>0.370591</td>\n",
       "      <td>1.127943</td>\n",
       "    </tr>\n",
       "    <tr>\n",
       "      <th>4</th>\n",
       "      <td>0.379426</td>\n",
       "      <td>0.085703</td>\n",
       "      <td>0.382750</td>\n",
       "      <td>0.827786</td>\n",
       "      <td>1.207212</td>\n",
       "    </tr>\n",
       "  </tbody>\n",
       "</table>\n",
       "</div>"
      ],
      "text/plain": [
       "          w         x         y         z   devwani\n",
       "0  0.434281  0.624325  0.627544  0.049232  0.483512\n",
       "1  0.441710  0.273403  0.792003  0.893275  1.334985\n",
       "2  0.903913  0.703915  0.611931  0.003945  0.907858\n",
       "3  0.757352  0.327081  0.622128  0.370591  1.127943\n",
       "4  0.379426  0.085703  0.382750  0.827786  1.207212"
      ]
     },
     "execution_count": 15,
     "metadata": {},
     "output_type": "execute_result"
    }
   ],
   "source": [
    "df"
   ]
  },
  {
   "cell_type": "code",
   "execution_count": 16,
   "id": "adef8d81",
   "metadata": {},
   "outputs": [],
   "source": [
    "df['new'] = [1,2,3,4,5]"
   ]
  },
  {
   "cell_type": "code",
   "execution_count": 17,
   "id": "7cd75af3",
   "metadata": {},
   "outputs": [
    {
     "data": {
      "text/html": [
       "<div>\n",
       "<style scoped>\n",
       "    .dataframe tbody tr th:only-of-type {\n",
       "        vertical-align: middle;\n",
       "    }\n",
       "\n",
       "    .dataframe tbody tr th {\n",
       "        vertical-align: top;\n",
       "    }\n",
       "\n",
       "    .dataframe thead th {\n",
       "        text-align: right;\n",
       "    }\n",
       "</style>\n",
       "<table border=\"1\" class=\"dataframe\">\n",
       "  <thead>\n",
       "    <tr style=\"text-align: right;\">\n",
       "      <th></th>\n",
       "      <th>w</th>\n",
       "      <th>x</th>\n",
       "      <th>y</th>\n",
       "      <th>z</th>\n",
       "      <th>devwani</th>\n",
       "      <th>new</th>\n",
       "    </tr>\n",
       "  </thead>\n",
       "  <tbody>\n",
       "    <tr>\n",
       "      <th>0</th>\n",
       "      <td>0.434281</td>\n",
       "      <td>0.624325</td>\n",
       "      <td>0.627544</td>\n",
       "      <td>0.049232</td>\n",
       "      <td>0.483512</td>\n",
       "      <td>1</td>\n",
       "    </tr>\n",
       "    <tr>\n",
       "      <th>1</th>\n",
       "      <td>0.441710</td>\n",
       "      <td>0.273403</td>\n",
       "      <td>0.792003</td>\n",
       "      <td>0.893275</td>\n",
       "      <td>1.334985</td>\n",
       "      <td>2</td>\n",
       "    </tr>\n",
       "    <tr>\n",
       "      <th>2</th>\n",
       "      <td>0.903913</td>\n",
       "      <td>0.703915</td>\n",
       "      <td>0.611931</td>\n",
       "      <td>0.003945</td>\n",
       "      <td>0.907858</td>\n",
       "      <td>3</td>\n",
       "    </tr>\n",
       "    <tr>\n",
       "      <th>3</th>\n",
       "      <td>0.757352</td>\n",
       "      <td>0.327081</td>\n",
       "      <td>0.622128</td>\n",
       "      <td>0.370591</td>\n",
       "      <td>1.127943</td>\n",
       "      <td>4</td>\n",
       "    </tr>\n",
       "    <tr>\n",
       "      <th>4</th>\n",
       "      <td>0.379426</td>\n",
       "      <td>0.085703</td>\n",
       "      <td>0.382750</td>\n",
       "      <td>0.827786</td>\n",
       "      <td>1.207212</td>\n",
       "      <td>5</td>\n",
       "    </tr>\n",
       "  </tbody>\n",
       "</table>\n",
       "</div>"
      ],
      "text/plain": [
       "          w         x         y         z   devwani  new\n",
       "0  0.434281  0.624325  0.627544  0.049232  0.483512    1\n",
       "1  0.441710  0.273403  0.792003  0.893275  1.334985    2\n",
       "2  0.903913  0.703915  0.611931  0.003945  0.907858    3\n",
       "3  0.757352  0.327081  0.622128  0.370591  1.127943    4\n",
       "4  0.379426  0.085703  0.382750  0.827786  1.207212    5"
      ]
     },
     "execution_count": 17,
     "metadata": {},
     "output_type": "execute_result"
    }
   ],
   "source": [
    "df"
   ]
  },
  {
   "cell_type": "code",
   "execution_count": 18,
   "id": "5c9c4592",
   "metadata": {},
   "outputs": [
    {
     "data": {
      "text/html": [
       "<div>\n",
       "<style scoped>\n",
       "    .dataframe tbody tr th:only-of-type {\n",
       "        vertical-align: middle;\n",
       "    }\n",
       "\n",
       "    .dataframe tbody tr th {\n",
       "        vertical-align: top;\n",
       "    }\n",
       "\n",
       "    .dataframe thead th {\n",
       "        text-align: right;\n",
       "    }\n",
       "</style>\n",
       "<table border=\"1\" class=\"dataframe\">\n",
       "  <thead>\n",
       "    <tr style=\"text-align: right;\">\n",
       "      <th></th>\n",
       "      <th>w</th>\n",
       "      <th>x</th>\n",
       "      <th>y</th>\n",
       "      <th>z</th>\n",
       "      <th>devwani</th>\n",
       "    </tr>\n",
       "  </thead>\n",
       "  <tbody>\n",
       "    <tr>\n",
       "      <th>0</th>\n",
       "      <td>0.434281</td>\n",
       "      <td>0.624325</td>\n",
       "      <td>0.627544</td>\n",
       "      <td>0.049232</td>\n",
       "      <td>0.483512</td>\n",
       "    </tr>\n",
       "    <tr>\n",
       "      <th>1</th>\n",
       "      <td>0.441710</td>\n",
       "      <td>0.273403</td>\n",
       "      <td>0.792003</td>\n",
       "      <td>0.893275</td>\n",
       "      <td>1.334985</td>\n",
       "    </tr>\n",
       "    <tr>\n",
       "      <th>2</th>\n",
       "      <td>0.903913</td>\n",
       "      <td>0.703915</td>\n",
       "      <td>0.611931</td>\n",
       "      <td>0.003945</td>\n",
       "      <td>0.907858</td>\n",
       "    </tr>\n",
       "    <tr>\n",
       "      <th>3</th>\n",
       "      <td>0.757352</td>\n",
       "      <td>0.327081</td>\n",
       "      <td>0.622128</td>\n",
       "      <td>0.370591</td>\n",
       "      <td>1.127943</td>\n",
       "    </tr>\n",
       "    <tr>\n",
       "      <th>4</th>\n",
       "      <td>0.379426</td>\n",
       "      <td>0.085703</td>\n",
       "      <td>0.382750</td>\n",
       "      <td>0.827786</td>\n",
       "      <td>1.207212</td>\n",
       "    </tr>\n",
       "  </tbody>\n",
       "</table>\n",
       "</div>"
      ],
      "text/plain": [
       "          w         x         y         z   devwani\n",
       "0  0.434281  0.624325  0.627544  0.049232  0.483512\n",
       "1  0.441710  0.273403  0.792003  0.893275  1.334985\n",
       "2  0.903913  0.703915  0.611931  0.003945  0.907858\n",
       "3  0.757352  0.327081  0.622128  0.370591  1.127943\n",
       "4  0.379426  0.085703  0.382750  0.827786  1.207212"
      ]
     },
     "execution_count": 18,
     "metadata": {},
     "output_type": "execute_result"
    }
   ],
   "source": [
    "df.drop('new', axis=1)              #axis 1 means delete column"
   ]
  },
  {
   "cell_type": "code",
   "execution_count": 25,
   "id": "f5fb59d2",
   "metadata": {},
   "outputs": [
    {
     "data": {
      "text/html": [
       "<div>\n",
       "<style scoped>\n",
       "    .dataframe tbody tr th:only-of-type {\n",
       "        vertical-align: middle;\n",
       "    }\n",
       "\n",
       "    .dataframe tbody tr th {\n",
       "        vertical-align: top;\n",
       "    }\n",
       "\n",
       "    .dataframe thead th {\n",
       "        text-align: right;\n",
       "    }\n",
       "</style>\n",
       "<table border=\"1\" class=\"dataframe\">\n",
       "  <thead>\n",
       "    <tr style=\"text-align: right;\">\n",
       "      <th></th>\n",
       "      <th>w</th>\n",
       "      <th>x</th>\n",
       "      <th>y</th>\n",
       "      <th>z</th>\n",
       "      <th>devwani</th>\n",
       "    </tr>\n",
       "  </thead>\n",
       "  <tbody>\n",
       "    <tr>\n",
       "      <th>0</th>\n",
       "      <td>0.434281</td>\n",
       "      <td>0.624325</td>\n",
       "      <td>0.627544</td>\n",
       "      <td>0.049232</td>\n",
       "      <td>0.483512</td>\n",
       "    </tr>\n",
       "    <tr>\n",
       "      <th>1</th>\n",
       "      <td>0.441710</td>\n",
       "      <td>0.273403</td>\n",
       "      <td>0.792003</td>\n",
       "      <td>0.893275</td>\n",
       "      <td>1.334985</td>\n",
       "    </tr>\n",
       "    <tr>\n",
       "      <th>2</th>\n",
       "      <td>0.903913</td>\n",
       "      <td>0.703915</td>\n",
       "      <td>0.611931</td>\n",
       "      <td>0.003945</td>\n",
       "      <td>0.907858</td>\n",
       "    </tr>\n",
       "    <tr>\n",
       "      <th>3</th>\n",
       "      <td>0.757352</td>\n",
       "      <td>0.327081</td>\n",
       "      <td>0.622128</td>\n",
       "      <td>0.370591</td>\n",
       "      <td>1.127943</td>\n",
       "    </tr>\n",
       "    <tr>\n",
       "      <th>4</th>\n",
       "      <td>0.379426</td>\n",
       "      <td>0.085703</td>\n",
       "      <td>0.382750</td>\n",
       "      <td>0.827786</td>\n",
       "      <td>1.207212</td>\n",
       "    </tr>\n",
       "  </tbody>\n",
       "</table>\n",
       "</div>"
      ],
      "text/plain": [
       "          w         x         y         z   devwani\n",
       "0  0.434281  0.624325  0.627544  0.049232  0.483512\n",
       "1  0.441710  0.273403  0.792003  0.893275  1.334985\n",
       "2  0.903913  0.703915  0.611931  0.003945  0.907858\n",
       "3  0.757352  0.327081  0.622128  0.370591  1.127943\n",
       "4  0.379426  0.085703  0.382750  0.827786  1.207212"
      ]
     },
     "execution_count": 25,
     "metadata": {},
     "output_type": "execute_result"
    }
   ],
   "source": [
    "df\n"
   ]
  },
  {
   "cell_type": "code",
   "execution_count": 28,
   "id": "aced14cd",
   "metadata": {},
   "outputs": [
    {
     "data": {
      "text/html": [
       "<div>\n",
       "<style scoped>\n",
       "    .dataframe tbody tr th:only-of-type {\n",
       "        vertical-align: middle;\n",
       "    }\n",
       "\n",
       "    .dataframe tbody tr th {\n",
       "        vertical-align: top;\n",
       "    }\n",
       "\n",
       "    .dataframe thead th {\n",
       "        text-align: right;\n",
       "    }\n",
       "</style>\n",
       "<table border=\"1\" class=\"dataframe\">\n",
       "  <thead>\n",
       "    <tr style=\"text-align: right;\">\n",
       "      <th></th>\n",
       "      <th>x</th>\n",
       "      <th>y</th>\n",
       "      <th>z</th>\n",
       "      <th>devwani</th>\n",
       "    </tr>\n",
       "  </thead>\n",
       "  <tbody>\n",
       "    <tr>\n",
       "      <th>0</th>\n",
       "      <td>0.624325</td>\n",
       "      <td>0.627544</td>\n",
       "      <td>0.049232</td>\n",
       "      <td>0.483512</td>\n",
       "    </tr>\n",
       "    <tr>\n",
       "      <th>1</th>\n",
       "      <td>0.273403</td>\n",
       "      <td>0.792003</td>\n",
       "      <td>0.893275</td>\n",
       "      <td>1.334985</td>\n",
       "    </tr>\n",
       "    <tr>\n",
       "      <th>2</th>\n",
       "      <td>0.703915</td>\n",
       "      <td>0.611931</td>\n",
       "      <td>0.003945</td>\n",
       "      <td>0.907858</td>\n",
       "    </tr>\n",
       "    <tr>\n",
       "      <th>3</th>\n",
       "      <td>0.327081</td>\n",
       "      <td>0.622128</td>\n",
       "      <td>0.370591</td>\n",
       "      <td>1.127943</td>\n",
       "    </tr>\n",
       "    <tr>\n",
       "      <th>4</th>\n",
       "      <td>0.085703</td>\n",
       "      <td>0.382750</td>\n",
       "      <td>0.827786</td>\n",
       "      <td>1.207212</td>\n",
       "    </tr>\n",
       "  </tbody>\n",
       "</table>\n",
       "</div>"
      ],
      "text/plain": [
       "          x         y         z   devwani\n",
       "0  0.624325  0.627544  0.049232  0.483512\n",
       "1  0.273403  0.792003  0.893275  1.334985\n",
       "2  0.703915  0.611931  0.003945  0.907858\n",
       "3  0.327081  0.622128  0.370591  1.127943\n",
       "4  0.085703  0.382750  0.827786  1.207212"
      ]
     },
     "execution_count": 28,
     "metadata": {},
     "output_type": "execute_result"
    }
   ],
   "source": [
    "\n"
   ]
  },
  {
   "cell_type": "code",
   "execution_count": 29,
   "id": "28000bfb",
   "metadata": {},
   "outputs": [],
   "source": [
    "df['new'] = [1,2,3,4,5]"
   ]
  },
  {
   "cell_type": "code",
   "execution_count": 30,
   "id": "8b101ae8",
   "metadata": {},
   "outputs": [
    {
     "data": {
      "text/html": [
       "<div>\n",
       "<style scoped>\n",
       "    .dataframe tbody tr th:only-of-type {\n",
       "        vertical-align: middle;\n",
       "    }\n",
       "\n",
       "    .dataframe tbody tr th {\n",
       "        vertical-align: top;\n",
       "    }\n",
       "\n",
       "    .dataframe thead th {\n",
       "        text-align: right;\n",
       "    }\n",
       "</style>\n",
       "<table border=\"1\" class=\"dataframe\">\n",
       "  <thead>\n",
       "    <tr style=\"text-align: right;\">\n",
       "      <th></th>\n",
       "      <th>x</th>\n",
       "      <th>y</th>\n",
       "      <th>z</th>\n",
       "      <th>devwani</th>\n",
       "      <th>new</th>\n",
       "    </tr>\n",
       "  </thead>\n",
       "  <tbody>\n",
       "    <tr>\n",
       "      <th>0</th>\n",
       "      <td>0.624325</td>\n",
       "      <td>0.627544</td>\n",
       "      <td>0.049232</td>\n",
       "      <td>0.483512</td>\n",
       "      <td>1</td>\n",
       "    </tr>\n",
       "    <tr>\n",
       "      <th>1</th>\n",
       "      <td>0.273403</td>\n",
       "      <td>0.792003</td>\n",
       "      <td>0.893275</td>\n",
       "      <td>1.334985</td>\n",
       "      <td>2</td>\n",
       "    </tr>\n",
       "    <tr>\n",
       "      <th>2</th>\n",
       "      <td>0.703915</td>\n",
       "      <td>0.611931</td>\n",
       "      <td>0.003945</td>\n",
       "      <td>0.907858</td>\n",
       "      <td>3</td>\n",
       "    </tr>\n",
       "    <tr>\n",
       "      <th>3</th>\n",
       "      <td>0.327081</td>\n",
       "      <td>0.622128</td>\n",
       "      <td>0.370591</td>\n",
       "      <td>1.127943</td>\n",
       "      <td>4</td>\n",
       "    </tr>\n",
       "    <tr>\n",
       "      <th>4</th>\n",
       "      <td>0.085703</td>\n",
       "      <td>0.382750</td>\n",
       "      <td>0.827786</td>\n",
       "      <td>1.207212</td>\n",
       "      <td>5</td>\n",
       "    </tr>\n",
       "  </tbody>\n",
       "</table>\n",
       "</div>"
      ],
      "text/plain": [
       "          x         y         z   devwani  new\n",
       "0  0.624325  0.627544  0.049232  0.483512    1\n",
       "1  0.273403  0.792003  0.893275  1.334985    2\n",
       "2  0.703915  0.611931  0.003945  0.907858    3\n",
       "3  0.327081  0.622128  0.370591  1.127943    4\n",
       "4  0.085703  0.382750  0.827786  1.207212    5"
      ]
     },
     "execution_count": 30,
     "metadata": {},
     "output_type": "execute_result"
    }
   ],
   "source": [
    "df"
   ]
  },
  {
   "cell_type": "code",
   "execution_count": 31,
   "id": "eb500e39",
   "metadata": {},
   "outputs": [],
   "source": [
    "df.drop('new',axis=1,inplace=True)    #axis 1 means columns"
   ]
  },
  {
   "cell_type": "code",
   "execution_count": 32,
   "id": "d02787c1",
   "metadata": {},
   "outputs": [
    {
     "data": {
      "text/html": [
       "<div>\n",
       "<style scoped>\n",
       "    .dataframe tbody tr th:only-of-type {\n",
       "        vertical-align: middle;\n",
       "    }\n",
       "\n",
       "    .dataframe tbody tr th {\n",
       "        vertical-align: top;\n",
       "    }\n",
       "\n",
       "    .dataframe thead th {\n",
       "        text-align: right;\n",
       "    }\n",
       "</style>\n",
       "<table border=\"1\" class=\"dataframe\">\n",
       "  <thead>\n",
       "    <tr style=\"text-align: right;\">\n",
       "      <th></th>\n",
       "      <th>x</th>\n",
       "      <th>y</th>\n",
       "      <th>z</th>\n",
       "      <th>devwani</th>\n",
       "    </tr>\n",
       "  </thead>\n",
       "  <tbody>\n",
       "    <tr>\n",
       "      <th>0</th>\n",
       "      <td>0.624325</td>\n",
       "      <td>0.627544</td>\n",
       "      <td>0.049232</td>\n",
       "      <td>0.483512</td>\n",
       "    </tr>\n",
       "    <tr>\n",
       "      <th>1</th>\n",
       "      <td>0.273403</td>\n",
       "      <td>0.792003</td>\n",
       "      <td>0.893275</td>\n",
       "      <td>1.334985</td>\n",
       "    </tr>\n",
       "    <tr>\n",
       "      <th>2</th>\n",
       "      <td>0.703915</td>\n",
       "      <td>0.611931</td>\n",
       "      <td>0.003945</td>\n",
       "      <td>0.907858</td>\n",
       "    </tr>\n",
       "    <tr>\n",
       "      <th>3</th>\n",
       "      <td>0.327081</td>\n",
       "      <td>0.622128</td>\n",
       "      <td>0.370591</td>\n",
       "      <td>1.127943</td>\n",
       "    </tr>\n",
       "    <tr>\n",
       "      <th>4</th>\n",
       "      <td>0.085703</td>\n",
       "      <td>0.382750</td>\n",
       "      <td>0.827786</td>\n",
       "      <td>1.207212</td>\n",
       "    </tr>\n",
       "  </tbody>\n",
       "</table>\n",
       "</div>"
      ],
      "text/plain": [
       "          x         y         z   devwani\n",
       "0  0.624325  0.627544  0.049232  0.483512\n",
       "1  0.273403  0.792003  0.893275  1.334985\n",
       "2  0.703915  0.611931  0.003945  0.907858\n",
       "3  0.327081  0.622128  0.370591  1.127943\n",
       "4  0.085703  0.382750  0.827786  1.207212"
      ]
     },
     "execution_count": 32,
     "metadata": {},
     "output_type": "execute_result"
    }
   ],
   "source": [
    "df"
   ]
  },
  {
   "cell_type": "code",
   "execution_count": 33,
   "id": "99ddb4e7",
   "metadata": {},
   "outputs": [
    {
     "data": {
      "text/html": [
       "<div>\n",
       "<style scoped>\n",
       "    .dataframe tbody tr th:only-of-type {\n",
       "        vertical-align: middle;\n",
       "    }\n",
       "\n",
       "    .dataframe tbody tr th {\n",
       "        vertical-align: top;\n",
       "    }\n",
       "\n",
       "    .dataframe thead th {\n",
       "        text-align: right;\n",
       "    }\n",
       "</style>\n",
       "<table border=\"1\" class=\"dataframe\">\n",
       "  <thead>\n",
       "    <tr style=\"text-align: right;\">\n",
       "      <th></th>\n",
       "      <th>x</th>\n",
       "      <th>y</th>\n",
       "      <th>z</th>\n",
       "      <th>devwani</th>\n",
       "    </tr>\n",
       "  </thead>\n",
       "  <tbody>\n",
       "    <tr>\n",
       "      <th>0</th>\n",
       "      <td>0.624325</td>\n",
       "      <td>0.627544</td>\n",
       "      <td>0.049232</td>\n",
       "      <td>0.483512</td>\n",
       "    </tr>\n",
       "    <tr>\n",
       "      <th>1</th>\n",
       "      <td>0.273403</td>\n",
       "      <td>0.792003</td>\n",
       "      <td>0.893275</td>\n",
       "      <td>1.334985</td>\n",
       "    </tr>\n",
       "    <tr>\n",
       "      <th>2</th>\n",
       "      <td>0.703915</td>\n",
       "      <td>0.611931</td>\n",
       "      <td>0.003945</td>\n",
       "      <td>0.907858</td>\n",
       "    </tr>\n",
       "    <tr>\n",
       "      <th>4</th>\n",
       "      <td>0.085703</td>\n",
       "      <td>0.382750</td>\n",
       "      <td>0.827786</td>\n",
       "      <td>1.207212</td>\n",
       "    </tr>\n",
       "  </tbody>\n",
       "</table>\n",
       "</div>"
      ],
      "text/plain": [
       "          x         y         z   devwani\n",
       "0  0.624325  0.627544  0.049232  0.483512\n",
       "1  0.273403  0.792003  0.893275  1.334985\n",
       "2  0.703915  0.611931  0.003945  0.907858\n",
       "4  0.085703  0.382750  0.827786  1.207212"
      ]
     },
     "execution_count": 33,
     "metadata": {},
     "output_type": "execute_result"
    }
   ],
   "source": [
    "df.drop(3,axis=0)                 #axis 0 means rows"
   ]
  },
  {
   "cell_type": "code",
   "execution_count": 34,
   "id": "f82b5dc5",
   "metadata": {},
   "outputs": [
    {
     "data": {
      "text/html": [
       "<div>\n",
       "<style scoped>\n",
       "    .dataframe tbody tr th:only-of-type {\n",
       "        vertical-align: middle;\n",
       "    }\n",
       "\n",
       "    .dataframe tbody tr th {\n",
       "        vertical-align: top;\n",
       "    }\n",
       "\n",
       "    .dataframe thead th {\n",
       "        text-align: right;\n",
       "    }\n",
       "</style>\n",
       "<table border=\"1\" class=\"dataframe\">\n",
       "  <thead>\n",
       "    <tr style=\"text-align: right;\">\n",
       "      <th></th>\n",
       "      <th>x</th>\n",
       "      <th>y</th>\n",
       "      <th>z</th>\n",
       "      <th>devwani</th>\n",
       "    </tr>\n",
       "  </thead>\n",
       "  <tbody>\n",
       "    <tr>\n",
       "      <th>0</th>\n",
       "      <td>0.624325</td>\n",
       "      <td>0.627544</td>\n",
       "      <td>0.049232</td>\n",
       "      <td>0.483512</td>\n",
       "    </tr>\n",
       "    <tr>\n",
       "      <th>1</th>\n",
       "      <td>0.273403</td>\n",
       "      <td>0.792003</td>\n",
       "      <td>0.893275</td>\n",
       "      <td>1.334985</td>\n",
       "    </tr>\n",
       "    <tr>\n",
       "      <th>2</th>\n",
       "      <td>0.703915</td>\n",
       "      <td>0.611931</td>\n",
       "      <td>0.003945</td>\n",
       "      <td>0.907858</td>\n",
       "    </tr>\n",
       "    <tr>\n",
       "      <th>3</th>\n",
       "      <td>0.327081</td>\n",
       "      <td>0.622128</td>\n",
       "      <td>0.370591</td>\n",
       "      <td>1.127943</td>\n",
       "    </tr>\n",
       "    <tr>\n",
       "      <th>4</th>\n",
       "      <td>0.085703</td>\n",
       "      <td>0.382750</td>\n",
       "      <td>0.827786</td>\n",
       "      <td>1.207212</td>\n",
       "    </tr>\n",
       "  </tbody>\n",
       "</table>\n",
       "</div>"
      ],
      "text/plain": [
       "          x         y         z   devwani\n",
       "0  0.624325  0.627544  0.049232  0.483512\n",
       "1  0.273403  0.792003  0.893275  1.334985\n",
       "2  0.703915  0.611931  0.003945  0.907858\n",
       "3  0.327081  0.622128  0.370591  1.127943\n",
       "4  0.085703  0.382750  0.827786  1.207212"
      ]
     },
     "execution_count": 34,
     "metadata": {},
     "output_type": "execute_result"
    }
   ],
   "source": [
    "df"
   ]
  },
  {
   "cell_type": "code",
   "execution_count": 35,
   "id": "863ae495",
   "metadata": {},
   "outputs": [
    {
     "data": {
      "text/plain": [
       "(5, 4)"
      ]
     },
     "execution_count": 35,
     "metadata": {},
     "output_type": "execute_result"
    }
   ],
   "source": [
    "df.shape"
   ]
  },
  {
   "cell_type": "code",
   "execution_count": 37,
   "id": "df13a4f7",
   "metadata": {},
   "outputs": [
    {
     "data": {
      "text/plain": [
       "x          0.703915\n",
       "y          0.611931\n",
       "z          0.003945\n",
       "devwani    0.907858\n",
       "Name: 2, dtype: float64"
      ]
     },
     "execution_count": 37,
     "metadata": {},
     "output_type": "execute_result"
    }
   ],
   "source": [
    "df.iloc[2]"
   ]
  },
  {
   "cell_type": "code",
   "execution_count": 38,
   "id": "7a0d5035",
   "metadata": {},
   "outputs": [
    {
     "data": {
      "text/plain": [
       "x          0.327081\n",
       "y          0.622128\n",
       "z          0.370591\n",
       "devwani    1.127943\n",
       "Name: 3, dtype: float64"
      ]
     },
     "execution_count": 38,
     "metadata": {},
     "output_type": "execute_result"
    }
   ],
   "source": [
    "df.iloc[3]"
   ]
  },
  {
   "cell_type": "markdown",
   "id": "ba9ca2d2",
   "metadata": {},
   "source": [
    "# creating dataframes"
   ]
  },
  {
   "cell_type": "code",
   "execution_count": 39,
   "id": "a0c6a367",
   "metadata": {},
   "outputs": [],
   "source": [
    "df = pd.DataFrame(np.random.rand(5,4),columns=['w','x','y','z'])"
   ]
  },
  {
   "cell_type": "code",
   "execution_count": 40,
   "id": "84a9ae81",
   "metadata": {},
   "outputs": [
    {
     "data": {
      "text/html": [
       "<div>\n",
       "<style scoped>\n",
       "    .dataframe tbody tr th:only-of-type {\n",
       "        vertical-align: middle;\n",
       "    }\n",
       "\n",
       "    .dataframe tbody tr th {\n",
       "        vertical-align: top;\n",
       "    }\n",
       "\n",
       "    .dataframe thead th {\n",
       "        text-align: right;\n",
       "    }\n",
       "</style>\n",
       "<table border=\"1\" class=\"dataframe\">\n",
       "  <thead>\n",
       "    <tr style=\"text-align: right;\">\n",
       "      <th></th>\n",
       "      <th>w</th>\n",
       "      <th>x</th>\n",
       "      <th>y</th>\n",
       "      <th>z</th>\n",
       "    </tr>\n",
       "  </thead>\n",
       "  <tbody>\n",
       "    <tr>\n",
       "      <th>0</th>\n",
       "      <td>0.386846</td>\n",
       "      <td>0.148865</td>\n",
       "      <td>0.653700</td>\n",
       "      <td>0.064743</td>\n",
       "    </tr>\n",
       "    <tr>\n",
       "      <th>1</th>\n",
       "      <td>0.611882</td>\n",
       "      <td>0.435946</td>\n",
       "      <td>0.731920</td>\n",
       "      <td>0.764038</td>\n",
       "    </tr>\n",
       "    <tr>\n",
       "      <th>2</th>\n",
       "      <td>0.224305</td>\n",
       "      <td>0.084729</td>\n",
       "      <td>0.272147</td>\n",
       "      <td>0.379244</td>\n",
       "    </tr>\n",
       "    <tr>\n",
       "      <th>3</th>\n",
       "      <td>0.846997</td>\n",
       "      <td>0.872474</td>\n",
       "      <td>0.875910</td>\n",
       "      <td>0.450285</td>\n",
       "    </tr>\n",
       "    <tr>\n",
       "      <th>4</th>\n",
       "      <td>0.158566</td>\n",
       "      <td>0.758830</td>\n",
       "      <td>0.489651</td>\n",
       "      <td>0.714825</td>\n",
       "    </tr>\n",
       "  </tbody>\n",
       "</table>\n",
       "</div>"
      ],
      "text/plain": [
       "          w         x         y         z\n",
       "0  0.386846  0.148865  0.653700  0.064743\n",
       "1  0.611882  0.435946  0.731920  0.764038\n",
       "2  0.224305  0.084729  0.272147  0.379244\n",
       "3  0.846997  0.872474  0.875910  0.450285\n",
       "4  0.158566  0.758830  0.489651  0.714825"
      ]
     },
     "execution_count": 40,
     "metadata": {},
     "output_type": "execute_result"
    }
   ],
   "source": [
    "df"
   ]
  },
  {
   "cell_type": "code",
   "execution_count": 41,
   "id": "ea434ede",
   "metadata": {},
   "outputs": [
    {
     "data": {
      "text/html": [
       "<div>\n",
       "<style scoped>\n",
       "    .dataframe tbody tr th:only-of-type {\n",
       "        vertical-align: middle;\n",
       "    }\n",
       "\n",
       "    .dataframe tbody tr th {\n",
       "        vertical-align: top;\n",
       "    }\n",
       "\n",
       "    .dataframe thead th {\n",
       "        text-align: right;\n",
       "    }\n",
       "</style>\n",
       "<table border=\"1\" class=\"dataframe\">\n",
       "  <thead>\n",
       "    <tr style=\"text-align: right;\">\n",
       "      <th></th>\n",
       "      <th>y</th>\n",
       "      <th>z</th>\n",
       "    </tr>\n",
       "  </thead>\n",
       "  <tbody>\n",
       "    <tr>\n",
       "      <th>0</th>\n",
       "      <td>0.653700</td>\n",
       "      <td>0.064743</td>\n",
       "    </tr>\n",
       "    <tr>\n",
       "      <th>1</th>\n",
       "      <td>0.731920</td>\n",
       "      <td>0.764038</td>\n",
       "    </tr>\n",
       "    <tr>\n",
       "      <th>2</th>\n",
       "      <td>0.272147</td>\n",
       "      <td>0.379244</td>\n",
       "    </tr>\n",
       "    <tr>\n",
       "      <th>3</th>\n",
       "      <td>0.875910</td>\n",
       "      <td>0.450285</td>\n",
       "    </tr>\n",
       "    <tr>\n",
       "      <th>4</th>\n",
       "      <td>0.489651</td>\n",
       "      <td>0.714825</td>\n",
       "    </tr>\n",
       "  </tbody>\n",
       "</table>\n",
       "</div>"
      ],
      "text/plain": [
       "          y         z\n",
       "0  0.653700  0.064743\n",
       "1  0.731920  0.764038\n",
       "2  0.272147  0.379244\n",
       "3  0.875910  0.450285\n",
       "4  0.489651  0.714825"
      ]
     },
     "execution_count": 41,
     "metadata": {},
     "output_type": "execute_result"
    }
   ],
   "source": [
    "df.iloc[0:,2:]"
   ]
  },
  {
   "cell_type": "code",
   "execution_count": 42,
   "id": "00575156",
   "metadata": {},
   "outputs": [
    {
     "data": {
      "text/html": [
       "<div>\n",
       "<style scoped>\n",
       "    .dataframe tbody tr th:only-of-type {\n",
       "        vertical-align: middle;\n",
       "    }\n",
       "\n",
       "    .dataframe tbody tr th {\n",
       "        vertical-align: top;\n",
       "    }\n",
       "\n",
       "    .dataframe thead th {\n",
       "        text-align: right;\n",
       "    }\n",
       "</style>\n",
       "<table border=\"1\" class=\"dataframe\">\n",
       "  <thead>\n",
       "    <tr style=\"text-align: right;\">\n",
       "      <th></th>\n",
       "      <th>y</th>\n",
       "      <th>z</th>\n",
       "    </tr>\n",
       "  </thead>\n",
       "  <tbody>\n",
       "    <tr>\n",
       "      <th>2</th>\n",
       "      <td>0.272147</td>\n",
       "      <td>0.379244</td>\n",
       "    </tr>\n",
       "    <tr>\n",
       "      <th>3</th>\n",
       "      <td>0.875910</td>\n",
       "      <td>0.450285</td>\n",
       "    </tr>\n",
       "    <tr>\n",
       "      <th>4</th>\n",
       "      <td>0.489651</td>\n",
       "      <td>0.714825</td>\n",
       "    </tr>\n",
       "  </tbody>\n",
       "</table>\n",
       "</div>"
      ],
      "text/plain": [
       "          y         z\n",
       "2  0.272147  0.379244\n",
       "3  0.875910  0.450285\n",
       "4  0.489651  0.714825"
      ]
     },
     "execution_count": 42,
     "metadata": {},
     "output_type": "execute_result"
    }
   ],
   "source": [
    "df.iloc[2:,2:]"
   ]
  },
  {
   "cell_type": "code",
   "execution_count": 43,
   "id": "df24f7d3",
   "metadata": {},
   "outputs": [
    {
     "data": {
      "text/html": [
       "<div>\n",
       "<style scoped>\n",
       "    .dataframe tbody tr th:only-of-type {\n",
       "        vertical-align: middle;\n",
       "    }\n",
       "\n",
       "    .dataframe tbody tr th {\n",
       "        vertical-align: top;\n",
       "    }\n",
       "\n",
       "    .dataframe thead th {\n",
       "        text-align: right;\n",
       "    }\n",
       "</style>\n",
       "<table border=\"1\" class=\"dataframe\">\n",
       "  <thead>\n",
       "    <tr style=\"text-align: right;\">\n",
       "      <th></th>\n",
       "      <th>y</th>\n",
       "      <th>z</th>\n",
       "    </tr>\n",
       "  </thead>\n",
       "  <tbody>\n",
       "    <tr>\n",
       "      <th>0</th>\n",
       "      <td>0.653700</td>\n",
       "      <td>0.064743</td>\n",
       "    </tr>\n",
       "    <tr>\n",
       "      <th>1</th>\n",
       "      <td>0.731920</td>\n",
       "      <td>0.764038</td>\n",
       "    </tr>\n",
       "    <tr>\n",
       "      <th>2</th>\n",
       "      <td>0.272147</td>\n",
       "      <td>0.379244</td>\n",
       "    </tr>\n",
       "  </tbody>\n",
       "</table>\n",
       "</div>"
      ],
      "text/plain": [
       "          y         z\n",
       "0  0.653700  0.064743\n",
       "1  0.731920  0.764038\n",
       "2  0.272147  0.379244"
      ]
     },
     "execution_count": 43,
     "metadata": {},
     "output_type": "execute_result"
    }
   ],
   "source": [
    "df.iloc[0:3,2:]"
   ]
  },
  {
   "cell_type": "markdown",
   "id": "2ceea191",
   "metadata": {},
   "source": [
    "# matplotlib"
   ]
  },
  {
   "cell_type": "code",
   "execution_count": 45,
   "id": "4b01dc45",
   "metadata": {},
   "outputs": [],
   "source": [
    "import matplotlib.pyplot as plt"
   ]
  },
  {
   "cell_type": "code",
   "execution_count": 46,
   "id": "0454eed4",
   "metadata": {},
   "outputs": [],
   "source": [
    "a = np.linspace(0,5,11)"
   ]
  },
  {
   "cell_type": "code",
   "execution_count": 47,
   "id": "237e2b24",
   "metadata": {},
   "outputs": [
    {
     "data": {
      "text/plain": [
       "array([0. , 0.5, 1. , 1.5, 2. , 2.5, 3. , 3.5, 4. , 4.5, 5. ])"
      ]
     },
     "execution_count": 47,
     "metadata": {},
     "output_type": "execute_result"
    }
   ],
   "source": [
    "a"
   ]
  },
  {
   "cell_type": "code",
   "execution_count": 48,
   "id": "e3298f07",
   "metadata": {},
   "outputs": [],
   "source": [
    "b = a**2"
   ]
  },
  {
   "cell_type": "code",
   "execution_count": 49,
   "id": "42513da2",
   "metadata": {},
   "outputs": [
    {
     "data": {
      "text/plain": [
       "array([ 0.  ,  0.25,  1.  ,  2.25,  4.  ,  6.25,  9.  , 12.25, 16.  ,\n",
       "       20.25, 25.  ])"
      ]
     },
     "execution_count": 49,
     "metadata": {},
     "output_type": "execute_result"
    }
   ],
   "source": [
    "b"
   ]
  },
  {
   "cell_type": "code",
   "execution_count": 50,
   "id": "bcae5f28",
   "metadata": {},
   "outputs": [],
   "source": [
    "c = np.array([1,2,3,4,5,6,7])"
   ]
  },
  {
   "cell_type": "code",
   "execution_count": 51,
   "id": "15646fd4",
   "metadata": {},
   "outputs": [
    {
     "data": {
      "text/plain": [
       "array([1, 2, 3, 4, 5, 6, 7])"
      ]
     },
     "execution_count": 51,
     "metadata": {},
     "output_type": "execute_result"
    }
   ],
   "source": [
    "c"
   ]
  },
  {
   "cell_type": "code",
   "execution_count": 53,
   "id": "73e47ade",
   "metadata": {},
   "outputs": [
    {
     "data": {
      "image/png": "[encoded data removed]",
      "text/plain": [
       "<Figure size 640x480 with 1 Axes>"
      ]
     },
     "metadata": {},
     "output_type": "display_data"
    }
   ],
   "source": [
    "plt.plot(a,b)\n",
    "plt.title('spparowAI',fontsize=20)\n",
    "plt.xlabel('A',fontsize=16)\n",
    "plt.ylabel('B',fontsize=16)\n",
    "plt.show()"
   ]
  },
  {
   "cell_type": "code",
   "execution_count": 54,
   "id": "57cf084d",
   "metadata": {},
   "outputs": [
    {
     "data": {
      "image/png": "[encoded data removed]",
      "text/plain": [
       "<Figure size 640x480 with 1 Axes>"
      ]
     },
     "metadata": {},
     "output_type": "display_data"
    }
   ],
   "source": [
    "plt.scatter(a,b)\n",
    "plt.title('spparowAI',fontsize=20)\n",
    "plt.xlabel('A',fontsize=16)\n",
    "plt.ylabel('B',fontsize=16)\n",
    "plt.show()"
   ]
  },
  {
   "cell_type": "code",
   "execution_count": 55,
   "id": "3145f36d",
   "metadata": {},
   "outputs": [
    {
     "data": {
      "image/png": "[encoded data removed]",
      "text/plain": [
       "<Figure size 640x480 with 1 Axes>"
      ]
     },
     "metadata": {},
     "output_type": "display_data"
    }
   ],
   "source": [
    "plt.bar(a,b)\n",
    "plt.title('spparowAI',fontsize=20)\n",
    "plt.xlabel('A',fontsize=16)\n",
    "plt.ylabel('B',fontsize=16)\n",
    "plt.show()"
   ]
  },
  {
   "cell_type": "code",
   "execution_count": 56,
   "id": "bbb9e858",
   "metadata": {},
   "outputs": [
    {
     "data": {
      "text/plain": [
       "([<matplotlib.patches.Wedge at 0x271978eeb60>,\n",
       "  <matplotlib.patches.Wedge at 0x271978ed270>,\n",
       "  <matplotlib.patches.Wedge at 0x27197950280>,\n",
       "  <matplotlib.patches.Wedge at 0x271979513f0>,\n",
       "  <matplotlib.patches.Wedge at 0x27197951900>,\n",
       "  <matplotlib.patches.Wedge at 0x27197952560>,\n",
       "  <matplotlib.patches.Wedge at 0x271979529b0>],\n",
       " [Text(1.0930834302648262, 0.12316092919623813, ''),\n",
       "  Text(0.9910657451172095, 0.47727213291294374, ''),\n",
       "  Text(0.5852352530227111, 0.9313966387202842, ''),\n",
       "  Text(-0.24477308831350386, 1.0724206894859265, ''),\n",
       "  Text(-1.038271696139623, 0.3633068744124598, ''),\n",
       "  Text(-0.6858386871455828, -0.8600147063942706, ''),\n",
       "  Text(0.7778175503358545, -0.7778173682745395, '')])"
      ]
     },
     "execution_count": 56,
     "metadata": {},
     "output_type": "execute_result"
    },
    {
     "data": {
      "image/png": "[encoded data removed]",
      "text/plain": [
       "<Figure size 640x480 with 1 Axes>"
      ]
     },
     "metadata": {},
     "output_type": "display_data"
    }
   ],
   "source": [
    "plt.pie(c)"
   ]
  },
  {
   "cell_type": "code",
   "execution_count": null,
   "id": "7a36c76f",
   "metadata": {},
   "outputs": [],
   "source": []
  }
 ],
 "metadata": {
  "kernelspec": {
   "display_name": "Python 3 (ipykernel)",
   "language": "python",
   "name": "python3"
  },
  "language_info": {
   "codemirror_mode": {
    "name": "ipython",
    "version": 3
   },
   "file_extension": ".py",
   "mimetype": "text/x-python",
   "name": "python",
   "nbconvert_exporter": "python",
   "pygments_lexer": "ipython3",
   "version": "3.10.9"
  }
 },
 "nbformat": 4,
 "nbformat_minor": 5
}
