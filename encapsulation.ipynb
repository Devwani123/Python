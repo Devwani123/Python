{
 "cells": [
  {
   "cell_type": "markdown",
   "id": "10592368",
   "metadata": {},
   "source": [
    "# encapsulation\n",
    "### it is one of the fundamental concept in object oriented programming. It describes the idea of wraping and the method that work on data within one unit. This puts restrictions on accesing variables and methods directly and can prevent the accidental modification of data.\n",
    "\n",
    "\n",
    "\n",
    "\n"
   ]
  },
  {
   "cell_type": "code",
   "execution_count": 5,
   "id": "b335b903",
   "metadata": {},
   "outputs": [
    {
     "name": "stdout",
     "output_type": "stream",
     "text": [
      "100 20\n"
     ]
    }
   ],
   "source": [
    "class speed:                                                         \n",
    "    def __init__(self):\n",
    "        self.speed = 10                            #public member\n",
    "        self._speed_limit = 20                     #private member\n",
    "        \n",
    "    def getSpeed(self):\n",
    "        return self.speed\n",
    "    \n",
    "    def get_speed_limit(self):\n",
    "        return self._speed_limit\n",
    "    \n",
    "s = speed()\n",
    "\n",
    "s.speed = 100\n",
    "s.__speed_limit = 50\n",
    "\n",
    "print(s.getSpeed(), s.get_speed_limit())\n",
    "\n",
    "\n",
    "\n",
    "    "
   ]
  },
  {
   "cell_type": "markdown",
   "id": "1b0da9e3",
   "metadata": {},
   "source": [
    "# changing speed limit and private member\n"
   ]
  },
  {
   "cell_type": "code",
   "execution_count": 8,
   "id": "0840a227",
   "metadata": {},
   "outputs": [
    {
     "name": "stdout",
     "output_type": "stream",
     "text": [
      "100 150\n"
     ]
    }
   ],
   "source": [
    "class speed:                                                         \n",
    "    def __init__(self):\n",
    "        self.speed = 10                            #public member\n",
    "        self._speed_limit = 20                     #private member\n",
    "        \n",
    "    def getSpeed(self):\n",
    "        return self.speed\n",
    "    \n",
    "    def get_speed_limit(self):\n",
    "        return self._speed_limit\n",
    "    \n",
    "    def set_speed_limit(self,new_speed_limit):\n",
    "        self._speed_limit = new_speed_limit\n",
    "        \n",
    "s = speed()\n",
    "\n",
    "s.speed = 100\n",
    "s._speed_limit = 50\n",
    "s.set_speed_limit(150)\n",
    "\n",
    "print(s.getSpeed(),s.get_speed_limit())"
   ]
  },
  {
   "cell_type": "markdown",
   "id": "73171493",
   "metadata": {},
   "source": [
    "# operator overloading\n",
    "## operator overloading refers to the ability to define custom behavior for built-in operators such as +, -, *, /, <, >, ==, etc., for user-defined objects. This allows you to use these operators on your custom objects in a way that makes sense for your specific use case. By defining special methods within your class, you can control how the operators interact with your objects."
   ]
  },
  {
   "cell_type": "code",
   "execution_count": 9,
   "id": "61e16b81",
   "metadata": {},
   "outputs": [
    {
     "name": "stdout",
     "output_type": "stream",
     "text": [
      "4\n",
      "datascience\n",
      "6\n",
      "AI is future...AI is future...AI is future...\n"
     ]
    }
   ],
   "source": [
    "print(2+2)\n",
    "\n",
    "print('data'+'science')\n",
    "\n",
    "print(2*3)\n",
    "\n",
    "print('AI is future...'*3)"
   ]
  },
  {
   "cell_type": "markdown",
   "id": "3eb7f925",
   "metadata": {},
   "source": [
    "# to overload binary \"+\" operator "
   ]
  },
  {
   "cell_type": "code",
   "execution_count": 3,
   "id": "149c77db",
   "metadata": {},
   "outputs": [
    {
     "name": "stdout",
     "output_type": "stream",
     "text": [
      "10\n",
      "datascience\n"
     ]
    }
   ],
   "source": [
    "class x:\n",
    "    def __init__(self,a):\n",
    "        self.a = a\n",
    "        \n",
    "    def __add__(self,b):\n",
    "        return self.a + b.a\n",
    "    \n",
    "obj1 = x(6)\n",
    "obj2 = x(4)\n",
    "obj3 = x('data')\n",
    "obj4 = x('science')\n",
    "\n",
    "print(obj1+obj2)\n",
    "print(obj3+obj4)\n",
    "        "
   ]
  },
  {
   "cell_type": "markdown",
   "id": "1c7b3c13",
   "metadata": {},
   "source": [
    "# addition of two complex numbers overloading\n",
    "\n",
    "\n"
   ]
  },
  {
   "cell_type": "code",
   "execution_count": 33,
   "id": "78b8b772",
   "metadata": {},
   "outputs": [
    {
     "name": "stdout",
     "output_type": "stream",
     "text": [
      "(7, 7)\n"
     ]
    }
   ],
   "source": [
    "class complex:\n",
    "    \n",
    "    def __init__(self,a,b):\n",
    "        self.a = a\n",
    "        self.b = b\n",
    "        \n",
    "    def __add__(self,other):\n",
    "        return self.a + other.a,self.b + other.b\n",
    "    \n",
    "ob1 = complex(6,4)\n",
    "ob2 = complex(1,3)\n",
    "ob3 = ob1 + ob2\n",
    "\n",
    "print(ob3)\n",
    "    "
   ]
  },
  {
   "cell_type": "code",
   "execution_count": 34,
   "id": "fea8dd1f",
   "metadata": {},
   "outputs": [
    {
     "name": "stdout",
     "output_type": "stream",
     "text": [
      "7 7\n"
     ]
    }
   ],
   "source": [
    "class complex:\n",
    "    \n",
    "    def __init__(self, a, b):\n",
    "        self.a = a\n",
    "        self.b = b\n",
    "        \n",
    "    def __add__(self, other):\n",
    "        return complex(self.a + other.a, self.b + other.b)\n",
    "    \n",
    "ob1 = complex(6, 4)\n",
    "ob2 = complex(1, 3)\n",
    "ob3 = ob1 + ob2\n",
    "\n",
    "print(ob3.a, ob3.b)\n"
   ]
  },
  {
   "cell_type": "markdown",
   "id": "8d5f5660",
   "metadata": {},
   "source": [
    "# wrting to a file"
   ]
  },
  {
   "cell_type": "code",
   "execution_count": 37,
   "id": "31990741",
   "metadata": {},
   "outputs": [],
   "source": [
    "f = open('devwani.txt','w')        # w is for writing\n",
    "\n",
    "f.write('welcome to spparow AI...\\n')\n",
    "f.write('data science is trending these days...\\n')\n",
    "f.write('AI is the future...')\n",
    "f.close()"
   ]
  },
  {
   "cell_type": "markdown",
   "id": "407d5307",
   "metadata": {},
   "source": [
    "# reading the file"
   ]
  },
  {
   "cell_type": "code",
   "execution_count": 38,
   "id": "6088fd93",
   "metadata": {},
   "outputs": [
    {
     "name": "stdout",
     "output_type": "stream",
     "text": [
      "welcome to spparow AI...\n",
      "data science is trending these days...\n",
      "AI is the future..."
     ]
    }
   ],
   "source": [
    "f = open('devwani.txt','r')   # r is for reading\n",
    "\n",
    "for l in f:\n",
    "    print(l,end='')      #for new line"
   ]
  },
  {
   "cell_type": "code",
   "execution_count": null,
   "id": "d10a29da",
   "metadata": {},
   "outputs": [],
   "source": []
  }
 ],
 "metadata": {
  "kernelspec": {
   "display_name": "Python 3 (ipykernel)",
   "language": "python",
   "name": "python3"
  },
  "language_info": {
   "codemirror_mode": {
    "name": "ipython",
    "version": 3
   },
   "file_extension": ".py",
   "mimetype": "text/x-python",
   "name": "python",
   "nbconvert_exporter": "python",
   "pygments_lexer": "ipython3",
   "version": "3.10.9"
  }
 },
 "nbformat": 4,
 "nbformat_minor": 5
}
